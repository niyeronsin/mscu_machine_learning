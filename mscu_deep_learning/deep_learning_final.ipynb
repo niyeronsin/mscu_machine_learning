{
 "cells": [
  {
   "cell_type": "markdown",
   "id": "a587e487",
   "metadata": {},
   "source": [
    "# CSCA 5642:Introduction to Deep Learning Final Project\n",
    "## ⚽ Predicting Football Match Outcomes with Deep Learning\n",
    "**Name:** Olaniyi Nafiu"
   ]
  },
  {
   "cell_type": "markdown",
   "id": "7eea23d3",
   "metadata": {},
   "source": [
    "## Project Description\n",
    "This project is based on the Kaggle competition [Football Match Probability Prediction](https://www.kaggle.com/competitions/football-match-probability-prediction).\n",
    "The goal is to build a deep learning model using LSTM (Long Short-Term Memory) networks to predict the probability of a team winning, drawing, or losing a match based on historical match sequences. This will be done for more than 150000 match outcomes using the recent sequence of 10 matches of the teams.\n",
    "\n",
    "### Task: Multi-class Classification\n"
   ]
  },
  {
   "cell_type": "markdown",
   "id": "c60b31cb",
   "metadata": {},
   "source": [
    "## Dataset\n",
    "- **Source:** [Kaggle - Football Match Probability Prediction](https://www.kaggle.com/competitions/football-match-probability-prediction)\n",
    "\n",
    "- **Description:**\n",
    "  - 110,938 historical matches from 2019 to 2021, across 860+ leagues and 9,500+ teams.\n",
    "  - Features are split into **descriptive** and **historical** types.\n",
    "    - **Descriptive features:**\n",
    "      - Include columns like: `target`, `home_team_name`, `away_team_name`, `is_cup`, etc.\n",
    "    - **Historical features:**\n",
    "      - Each match includes data from the last 10 games played by each team.\n",
    "      - `is_play_home` indicates if the team played at home in those past games.\n",
    "      - The most recent game is indexed at 1, the least recent at 10.\n",
    "      - Columns include: `home_team_history_is_play_home_{i}`, `home_team_history_opponent_rating_{i}`, `away_team_history_is_play_home_{i}`, `away_team_history_opponent_rating_{i}`, etc.\n",
    "\n",
    "- **Evaluation:** Multinomial [Log Loss](https://scikit-learn.org/stable/modules/generated/sklearn.metrics.log_loss.html)\n",
    "\n",
    "- **Submission:**\n",
    "  - Columns: `id`, `home`, `draw`, `away`\n",
    "  - Each value is a float between 0 and 1, and the sum of the three must equal 1.\n",
    "  - `id` is the unique identifier for the predicted match.\n",
    "\n",
    "> *Citation:* Kaggle Competition. (2024). *Football Match Probability Prediction.* https://www.kaggle.com/competitions/football-match-probability-prediction\n"
   ]
  },
  {
   "cell_type": "code",
   "execution_count": 52,
   "id": "1879aa24-ecb4-4e16-96d8-25df7392277c",
   "metadata": {},
   "outputs": [],
   "source": [
    "# Imports\n",
    "import pandas as pd\n",
    "import numpy as np\n",
    "import matplotlib.pyplot as plt\n",
    "import seaborn as sns\n",
    "# Set color map to have light blue background\n",
    "sns.set()\n",
    "from sklearn.preprocessing import LabelEncoder\n",
    "from tensorflow.keras.models import Sequential\n",
    "from tensorflow.keras.layers import LSTM, Dense, Dropout\n",
    "from sklearn.model_selection import train_test_split\n",
    "import keras_tuner as kt\n",
    "import tensorflow as tf\n",
    "from sklearn.metrics import log_loss\n",
    "from sklearn.linear_model import LogisticRegression\n",
    "from sklearn.metrics import log_loss, classification_report\n",
    "from sklearn.metrics import log_loss\n",
    "from sklearn.metrics import confusion_matrix, ConfusionMatrixDisplay"
   ]
  },
  {
   "cell_type": "markdown",
   "id": "7b0df939",
   "metadata": {},
   "source": [
    "## Exploratory Data Analysis (EDA)"
   ]
  },
  {
   "cell_type": "code",
   "execution_count": 10,
   "id": "f0aa3d93",
   "metadata": {},
   "outputs": [
    {
     "name": "stderr",
     "output_type": "stream",
     "text": [
      "/var/folders/29/pcgxrbyn6nnbkh5g1dvhbb_m0000gn/T/ipykernel_35425/2418593250.py:4: DtypeWarning: Columns (7) have mixed types. Specify dtype option on import or set low_memory=False.\n",
      "  train_df = pd.read_csv('../dataset/dl_final/train.csv')\n"
     ]
    },
    {
     "data": {
      "text/plain": [
       "match_date                         object\n",
       "home_team_history_match_date_1     object\n",
       "home_team_history_match_date_2     object\n",
       "home_team_history_match_date_3     object\n",
       "home_team_history_match_date_4     object\n",
       "home_team_history_match_date_5     object\n",
       "home_team_history_match_date_6     object\n",
       "home_team_history_match_date_7     object\n",
       "home_team_history_match_date_8     object\n",
       "home_team_history_match_date_9     object\n",
       "home_team_history_match_date_10    object\n",
       "away_team_history_match_date_1     object\n",
       "away_team_history_match_date_2     object\n",
       "away_team_history_match_date_3     object\n",
       "away_team_history_match_date_4     object\n",
       "away_team_history_match_date_5     object\n",
       "away_team_history_match_date_6     object\n",
       "away_team_history_match_date_7     object\n",
       "away_team_history_match_date_8     object\n",
       "away_team_history_match_date_9     object\n",
       "away_team_history_match_date_10    object\n",
       "dtype: object"
      ]
     },
     "execution_count": 10,
     "metadata": {},
     "output_type": "execute_result"
    }
   ],
   "source": [
    "# Load and explore dataset\n",
    "# train = pd.read_csv('/kaggle/input/football-match-probability-prediction/train.csv')\n",
    "# test = pd.read_csv('/kaggle/input/football-match-probability-prediction/test.csv')\n",
    "train_df = pd.read_csv('../dataset/dl_final/train.csv')\n",
    "test_df = pd.read_csv('../dataset/dl_final/test.csv')\n",
    "train_df.head()"
   ]
  },
  {
   "cell_type": "code",
   "execution_count": 11,
   "id": "7f32237d-49bb-46e6-9b58-ec89cec80431",
   "metadata": {},
   "outputs": [
    {
     "name": "stdout",
     "output_type": "stream",
     "text": [
      "Train shape: (110938, 190)\n",
      "Test shape: (72711, 189)\n",
      "<class 'pandas.core.frame.DataFrame'>\n",
      "RangeIndex: 110938 entries, 0 to 110937\n",
      "Columns: 190 entries, id to away_team_history_league_id_10\n",
      "dtypes: float64(162), int64(2), object(26)\n",
      "memory usage: 160.8+ MB\n",
      "None\n"
     ]
    },
    {
     "data": {
      "text/html": [
       "<div>\n",
       "<style scoped>\n",
       "    .dataframe tbody tr th:only-of-type {\n",
       "        vertical-align: middle;\n",
       "    }\n",
       "\n",
       "    .dataframe tbody tr th {\n",
       "        vertical-align: top;\n",
       "    }\n",
       "\n",
       "    .dataframe thead th {\n",
       "        text-align: right;\n",
       "    }\n",
       "</style>\n",
       "<table border=\"1\" class=\"dataframe\">\n",
       "  <thead>\n",
       "    <tr style=\"text-align: right;\">\n",
       "      <th></th>\n",
       "      <th>id</th>\n",
       "      <th>league_id</th>\n",
       "      <th>home_team_coach_id</th>\n",
       "      <th>away_team_coach_id</th>\n",
       "      <th>home_team_history_is_play_home_1</th>\n",
       "      <th>home_team_history_is_play_home_2</th>\n",
       "      <th>home_team_history_is_play_home_3</th>\n",
       "      <th>home_team_history_is_play_home_4</th>\n",
       "      <th>home_team_history_is_play_home_5</th>\n",
       "      <th>home_team_history_is_play_home_6</th>\n",
       "      <th>...</th>\n",
       "      <th>away_team_history_league_id_1</th>\n",
       "      <th>away_team_history_league_id_2</th>\n",
       "      <th>away_team_history_league_id_3</th>\n",
       "      <th>away_team_history_league_id_4</th>\n",
       "      <th>away_team_history_league_id_5</th>\n",
       "      <th>away_team_history_league_id_6</th>\n",
       "      <th>away_team_history_league_id_7</th>\n",
       "      <th>away_team_history_league_id_8</th>\n",
       "      <th>away_team_history_league_id_9</th>\n",
       "      <th>away_team_history_league_id_10</th>\n",
       "    </tr>\n",
       "  </thead>\n",
       "  <tbody>\n",
       "    <tr>\n",
       "      <th>count</th>\n",
       "      <td>1.109380e+05</td>\n",
       "      <td>110938.000000</td>\n",
       "      <td>8.921700e+04</td>\n",
       "      <td>8.912300e+04</td>\n",
       "      <td>109779.000000</td>\n",
       "      <td>108487.000000</td>\n",
       "      <td>107165.000000</td>\n",
       "      <td>105837.000000</td>\n",
       "      <td>104461.000000</td>\n",
       "      <td>103042.000000</td>\n",
       "      <td>...</td>\n",
       "      <td>109712.000000</td>\n",
       "      <td>108345.000000</td>\n",
       "      <td>106904.000000</td>\n",
       "      <td>105422.000000</td>\n",
       "      <td>103938.000000</td>\n",
       "      <td>102512.000000</td>\n",
       "      <td>101071.000000</td>\n",
       "      <td>99643.000000</td>\n",
       "      <td>98176.000000</td>\n",
       "      <td>96722.000000</td>\n",
       "    </tr>\n",
       "    <tr>\n",
       "      <th>mean</th>\n",
       "      <td>1.519875e+07</td>\n",
       "      <td>910.457012</td>\n",
       "      <td>1.287134e+07</td>\n",
       "      <td>1.291552e+07</td>\n",
       "      <td>0.306944</td>\n",
       "      <td>0.567801</td>\n",
       "      <td>0.466141</td>\n",
       "      <td>0.519469</td>\n",
       "      <td>0.487857</td>\n",
       "      <td>0.507288</td>\n",
       "      <td>...</td>\n",
       "      <td>901.986200</td>\n",
       "      <td>894.389137</td>\n",
       "      <td>886.368012</td>\n",
       "      <td>878.243611</td>\n",
       "      <td>869.450297</td>\n",
       "      <td>861.901455</td>\n",
       "      <td>853.435338</td>\n",
       "      <td>844.673223</td>\n",
       "      <td>837.678200</td>\n",
       "      <td>829.177374</td>\n",
       "    </tr>\n",
       "    <tr>\n",
       "      <th>std</th>\n",
       "      <td>2.536393e+06</td>\n",
       "      <td>549.120985</td>\n",
       "      <td>1.578479e+07</td>\n",
       "      <td>1.580344e+07</td>\n",
       "      <td>0.461228</td>\n",
       "      <td>0.495384</td>\n",
       "      <td>0.498855</td>\n",
       "      <td>0.499623</td>\n",
       "      <td>0.499855</td>\n",
       "      <td>0.499949</td>\n",
       "      <td>...</td>\n",
       "      <td>545.826707</td>\n",
       "      <td>542.247411</td>\n",
       "      <td>538.497274</td>\n",
       "      <td>534.864981</td>\n",
       "      <td>531.170701</td>\n",
       "      <td>527.338931</td>\n",
       "      <td>524.217968</td>\n",
       "      <td>520.954647</td>\n",
       "      <td>517.647869</td>\n",
       "      <td>514.900676</td>\n",
       "    </tr>\n",
       "    <tr>\n",
       "      <th>min</th>\n",
       "      <td>1.142829e+07</td>\n",
       "      <td>2.000000</td>\n",
       "      <td>2.000000e+00</td>\n",
       "      <td>2.000000e+00</td>\n",
       "      <td>0.000000</td>\n",
       "      <td>0.000000</td>\n",
       "      <td>0.000000</td>\n",
       "      <td>0.000000</td>\n",
       "      <td>0.000000</td>\n",
       "      <td>0.000000</td>\n",
       "      <td>...</td>\n",
       "      <td>2.000000</td>\n",
       "      <td>2.000000</td>\n",
       "      <td>2.000000</td>\n",
       "      <td>2.000000</td>\n",
       "      <td>2.000000</td>\n",
       "      <td>2.000000</td>\n",
       "      <td>2.000000</td>\n",
       "      <td>2.000000</td>\n",
       "      <td>2.000000</td>\n",
       "      <td>2.000000</td>\n",
       "    </tr>\n",
       "    <tr>\n",
       "      <th>25%</th>\n",
       "      <td>1.200038e+07</td>\n",
       "      <td>444.000000</td>\n",
       "      <td>4.596120e+05</td>\n",
       "      <td>4.595650e+05</td>\n",
       "      <td>0.000000</td>\n",
       "      <td>0.000000</td>\n",
       "      <td>0.000000</td>\n",
       "      <td>0.000000</td>\n",
       "      <td>0.000000</td>\n",
       "      <td>0.000000</td>\n",
       "      <td>...</td>\n",
       "      <td>438.000000</td>\n",
       "      <td>432.000000</td>\n",
       "      <td>426.000000</td>\n",
       "      <td>420.000000</td>\n",
       "      <td>417.000000</td>\n",
       "      <td>408.000000</td>\n",
       "      <td>399.000000</td>\n",
       "      <td>391.500000</td>\n",
       "      <td>387.000000</td>\n",
       "      <td>387.000000</td>\n",
       "    </tr>\n",
       "    <tr>\n",
       "      <th>50%</th>\n",
       "      <td>1.675988e+07</td>\n",
       "      <td>947.000000</td>\n",
       "      <td>1.552728e+06</td>\n",
       "      <td>1.552806e+06</td>\n",
       "      <td>0.000000</td>\n",
       "      <td>1.000000</td>\n",
       "      <td>0.000000</td>\n",
       "      <td>1.000000</td>\n",
       "      <td>0.000000</td>\n",
       "      <td>1.000000</td>\n",
       "      <td>...</td>\n",
       "      <td>944.000000</td>\n",
       "      <td>935.000000</td>\n",
       "      <td>906.500000</td>\n",
       "      <td>899.000000</td>\n",
       "      <td>884.000000</td>\n",
       "      <td>881.000000</td>\n",
       "      <td>860.000000</td>\n",
       "      <td>830.000000</td>\n",
       "      <td>821.000000</td>\n",
       "      <td>806.000000</td>\n",
       "    </tr>\n",
       "    <tr>\n",
       "      <th>75%</th>\n",
       "      <td>1.724230e+07</td>\n",
       "      <td>1293.000000</td>\n",
       "      <td>3.243116e+07</td>\n",
       "      <td>3.279539e+07</td>\n",
       "      <td>1.000000</td>\n",
       "      <td>1.000000</td>\n",
       "      <td>1.000000</td>\n",
       "      <td>1.000000</td>\n",
       "      <td>1.000000</td>\n",
       "      <td>1.000000</td>\n",
       "      <td>...</td>\n",
       "      <td>1286.000000</td>\n",
       "      <td>1283.000000</td>\n",
       "      <td>1279.000000</td>\n",
       "      <td>1274.000000</td>\n",
       "      <td>1270.000000</td>\n",
       "      <td>1267.000000</td>\n",
       "      <td>1265.000000</td>\n",
       "      <td>1263.000000</td>\n",
       "      <td>1261.000000</td>\n",
       "      <td>1255.000000</td>\n",
       "    </tr>\n",
       "    <tr>\n",
       "      <th>max</th>\n",
       "      <td>1.805384e+07</td>\n",
       "      <td>2039.000000</td>\n",
       "      <td>3.756849e+07</td>\n",
       "      <td>3.756847e+07</td>\n",
       "      <td>1.000000</td>\n",
       "      <td>1.000000</td>\n",
       "      <td>1.000000</td>\n",
       "      <td>1.000000</td>\n",
       "      <td>1.000000</td>\n",
       "      <td>1.000000</td>\n",
       "      <td>...</td>\n",
       "      <td>2039.000000</td>\n",
       "      <td>2039.000000</td>\n",
       "      <td>2039.000000</td>\n",
       "      <td>2039.000000</td>\n",
       "      <td>2039.000000</td>\n",
       "      <td>2039.000000</td>\n",
       "      <td>2039.000000</td>\n",
       "      <td>2039.000000</td>\n",
       "      <td>2028.000000</td>\n",
       "      <td>2025.000000</td>\n",
       "    </tr>\n",
       "  </tbody>\n",
       "</table>\n",
       "<p>8 rows × 164 columns</p>\n",
       "</div>"
      ],
      "text/plain": [
       "                 id      league_id  home_team_coach_id  away_team_coach_id  \\\n",
       "count  1.109380e+05  110938.000000        8.921700e+04        8.912300e+04   \n",
       "mean   1.519875e+07     910.457012        1.287134e+07        1.291552e+07   \n",
       "std    2.536393e+06     549.120985        1.578479e+07        1.580344e+07   \n",
       "min    1.142829e+07       2.000000        2.000000e+00        2.000000e+00   \n",
       "25%    1.200038e+07     444.000000        4.596120e+05        4.595650e+05   \n",
       "50%    1.675988e+07     947.000000        1.552728e+06        1.552806e+06   \n",
       "75%    1.724230e+07    1293.000000        3.243116e+07        3.279539e+07   \n",
       "max    1.805384e+07    2039.000000        3.756849e+07        3.756847e+07   \n",
       "\n",
       "       home_team_history_is_play_home_1  home_team_history_is_play_home_2  \\\n",
       "count                     109779.000000                     108487.000000   \n",
       "mean                           0.306944                          0.567801   \n",
       "std                            0.461228                          0.495384   \n",
       "min                            0.000000                          0.000000   \n",
       "25%                            0.000000                          0.000000   \n",
       "50%                            0.000000                          1.000000   \n",
       "75%                            1.000000                          1.000000   \n",
       "max                            1.000000                          1.000000   \n",
       "\n",
       "       home_team_history_is_play_home_3  home_team_history_is_play_home_4  \\\n",
       "count                     107165.000000                     105837.000000   \n",
       "mean                           0.466141                          0.519469   \n",
       "std                            0.498855                          0.499623   \n",
       "min                            0.000000                          0.000000   \n",
       "25%                            0.000000                          0.000000   \n",
       "50%                            0.000000                          1.000000   \n",
       "75%                            1.000000                          1.000000   \n",
       "max                            1.000000                          1.000000   \n",
       "\n",
       "       home_team_history_is_play_home_5  home_team_history_is_play_home_6  \\\n",
       "count                     104461.000000                     103042.000000   \n",
       "mean                           0.487857                          0.507288   \n",
       "std                            0.499855                          0.499949   \n",
       "min                            0.000000                          0.000000   \n",
       "25%                            0.000000                          0.000000   \n",
       "50%                            0.000000                          1.000000   \n",
       "75%                            1.000000                          1.000000   \n",
       "max                            1.000000                          1.000000   \n",
       "\n",
       "       ...  away_team_history_league_id_1  away_team_history_league_id_2  \\\n",
       "count  ...                  109712.000000                  108345.000000   \n",
       "mean   ...                     901.986200                     894.389137   \n",
       "std    ...                     545.826707                     542.247411   \n",
       "min    ...                       2.000000                       2.000000   \n",
       "25%    ...                     438.000000                     432.000000   \n",
       "50%    ...                     944.000000                     935.000000   \n",
       "75%    ...                    1286.000000                    1283.000000   \n",
       "max    ...                    2039.000000                    2039.000000   \n",
       "\n",
       "       away_team_history_league_id_3  away_team_history_league_id_4  \\\n",
       "count                  106904.000000                  105422.000000   \n",
       "mean                      886.368012                     878.243611   \n",
       "std                       538.497274                     534.864981   \n",
       "min                         2.000000                       2.000000   \n",
       "25%                       426.000000                     420.000000   \n",
       "50%                       906.500000                     899.000000   \n",
       "75%                      1279.000000                    1274.000000   \n",
       "max                      2039.000000                    2039.000000   \n",
       "\n",
       "       away_team_history_league_id_5  away_team_history_league_id_6  \\\n",
       "count                  103938.000000                  102512.000000   \n",
       "mean                      869.450297                     861.901455   \n",
       "std                       531.170701                     527.338931   \n",
       "min                         2.000000                       2.000000   \n",
       "25%                       417.000000                     408.000000   \n",
       "50%                       884.000000                     881.000000   \n",
       "75%                      1270.000000                    1267.000000   \n",
       "max                      2039.000000                    2039.000000   \n",
       "\n",
       "       away_team_history_league_id_7  away_team_history_league_id_8  \\\n",
       "count                  101071.000000                   99643.000000   \n",
       "mean                      853.435338                     844.673223   \n",
       "std                       524.217968                     520.954647   \n",
       "min                         2.000000                       2.000000   \n",
       "25%                       399.000000                     391.500000   \n",
       "50%                       860.000000                     830.000000   \n",
       "75%                      1265.000000                    1263.000000   \n",
       "max                      2039.000000                    2039.000000   \n",
       "\n",
       "       away_team_history_league_id_9  away_team_history_league_id_10  \n",
       "count                   98176.000000                    96722.000000  \n",
       "mean                      837.678200                      829.177374  \n",
       "std                       517.647869                      514.900676  \n",
       "min                         2.000000                        2.000000  \n",
       "25%                       387.000000                      387.000000  \n",
       "50%                       821.000000                      806.000000  \n",
       "75%                      1261.000000                     1255.000000  \n",
       "max                      2028.000000                     2025.000000  \n",
       "\n",
       "[8 rows x 164 columns]"
      ]
     },
     "execution_count": 11,
     "metadata": {},
     "output_type": "execute_result"
    }
   ],
   "source": [
    "# Data set shape\n",
    "print(\"Train shape:\", train_df.shape)\n",
    "print(\"Test shape:\", test_df.shape)\n",
    "print(train_df.info())\n",
    "train_df.describe()"
   ]
  },
  {
   "cell_type": "code",
   "execution_count": 17,
   "id": "567f15f5-68a4-4412-bdd9-60d684bb17a8",
   "metadata": {},
   "outputs": [
    {
     "data": {
      "image/png": "[encoded data removed]",
      "text/plain": [
       "<Figure size 600x600 with 1 Axes>"
      ]
     },
     "metadata": {},
     "output_type": "display_data"
    }
   ],
   "source": [
    "# Plot class distribution as a pie chart\n",
    "class_counts = train_df['target'].value_counts()\n",
    "labels = class_counts.index\n",
    "sizes = class_counts.values\n",
    "\n",
    "plt.figure(figsize=(6, 6))\n",
    "plt.pie(sizes, labels=labels, autopct='%1.1f%%', startangle=90, counterclock=False)\n",
    "plt.title(\"Class Distribution\")\n",
    "plt.axis('equal')  # Equal aspect ratio ensures a perfect circle\n",
    "plt.show()\n"
   ]
  },
  {
   "cell_type": "code",
   "execution_count": 13,
   "id": "1d035e7d-966b-4736-a2c1-b2b0958e8d07",
   "metadata": {},
   "outputs": [
    {
     "data": {
      "text/plain": [
       "away_team_history_coach_10       27129\n",
       "home_team_history_coach_10       26653\n",
       "away_team_history_coach_9        26150\n",
       "home_team_history_coach_9        25733\n",
       "away_team_history_coach_8        25219\n",
       "                                 ...  \n",
       "home_team_history_league_id_1     1159\n",
       "away_team_name                       1\n",
       "is_cup                               1\n",
       "league_name                          1\n",
       "home_team_name                       1\n",
       "Length: 186, dtype: int64"
      ]
     },
     "execution_count": 13,
     "metadata": {},
     "output_type": "execute_result"
    }
   ],
   "source": [
    "# Check for missing values\n",
    "missing = train_df.isnull().sum()\n",
    "missing[missing > 0].sort_values(ascending=False)"
   ]
  },
  {
   "cell_type": "code",
   "execution_count": 14,
   "id": "7e2edd95-3df9-4c2d-b058-07fa8b39b71d",
   "metadata": {},
   "outputs": [],
   "source": [
    "# Clean data\n",
    "def clean_match_data(df):\n",
    "    # Replace all missing values for coach or league id with -1\n",
    "    coach_cols = [col for col in df.columns if 'coach' in col]\n",
    "    league_cols = [col for col in df.columns if 'league_id' in col]\n",
    "    df[coach_cols] = df[coach_cols].fillna(-1)\n",
    "    df[league_cols] = df[league_cols].fillna(-1)\n",
    "\n",
    "    # Replace all missing values for _is_cup_* with 0 (not a cup match)\n",
    "    is_cup_cols = [col for col in df.columns if '_is_cup_' in col]\n",
    "    df[is_cup_cols] = df[is_cup_cols].fillna(0)\n",
    "\n",
    "    # Replace missing values for rating and goal columns with median\n",
    "    rating_goal_cols = [col for col in df.columns if '_rating_' in col or '_goal_' in col]\n",
    "    for col in rating_goal_cols:\n",
    "        df[col] = df[col].fillna(df[col].median())\n",
    "\n",
    "    # Replace *_is_play_home_{i} with 0 (assume away)\n",
    "    is_play_home_cols = [col for col in df.columns if 'is_play_home_' in col]\n",
    "    df[is_play_home_cols] = df[is_play_home_cols].fillna(0)\n",
    "\n",
    "    # Replace *_match_date_{i} with placeholder and convert to datetime\n",
    "    placeholder_date = pd.to_datetime('1900-01-01')\n",
    "    match_date_cols = [col for col in df.columns if 'match_date' in col]\n",
    "    for col in match_date_cols:\n",
    "        df[col] = pd.to_datetime(df[col].fillna(placeholder_date), errors='coerce')\n",
    "\n",
    "    # Drop rows with missing values in important descriptive fields (only a few missing)\n",
    "    cols_to_check = ['home_team_name', 'away_team_name', 'league_name', 'is_cup']\n",
    "    df = df.dropna(subset=cols_to_check).reset_index(drop=True)\n",
    "\n",
    "    return df\n",
    "train_df = clean_match_data(train_df)"
   ]
  },
  {
   "cell_type": "code",
   "execution_count": 15,
   "id": "7ec4585a-c02f-4876-941d-125c64a65f50",
   "metadata": {},
   "outputs": [
    {
     "data": {
      "text/plain": [
       "Series([], dtype: int64)"
      ]
     },
     "execution_count": 15,
     "metadata": {},
     "output_type": "execute_result"
    }
   ],
   "source": [
    "# Verify no values are missing\n",
    "missing = train_df.isnull().sum()\n",
    "missing[missing > 0].sort_values(ascending=False)"
   ]
  },
  {
   "cell_type": "code",
   "execution_count": 20,
   "id": "ae756afa-1891-4334-8f9b-db5b1feeb95d",
   "metadata": {},
   "outputs": [],
   "source": [
    "# Drop league_name columns league_id\n",
    "if 'league_name' in train_df.columns:\n",
    "    train_df = train_df.drop(columns='league_name')"
   ]
  },
  {
   "cell_type": "markdown",
   "id": "09535a7c",
   "metadata": {},
   "source": [
    "## 🧠 Model Architecture\n",
    "I'm using a simple LSTM-based architecture with the following structure:\n",
    "- Input: sequences of past match stats (per team)\n",
    "- LSTM layers\n",
    "- Dense layer with softmax output (3 classes)\n",
    "\n",
    "### Loss Function: Categorical Crossentropy\n",
    "### Optimizer: Adam"
   ]
  },
  {
   "cell_type": "code",
   "execution_count": 30,
   "id": "61db94a4",
   "metadata": {},
   "outputs": [],
   "source": [
    "# Define historical features to include\n",
    "timesteps = 10\n",
    "history_features = [\n",
    "    'rating',\n",
    "    'goal',\n",
    "    'is_play_home',\n",
    "    'is_cup',\n",
    "    'opponent_rating',\n",
    "    'opponent_goal'\n",
    "]\n",
    "sides = ['home', 'away']\n",
    "\n",
    "sequence_features = [\n",
    "    f\"{side}_team_history_{feat}_{i}\"\n",
    "    for side in sides\n",
    "    for feat in history_features\n",
    "    for i in range(1, timesteps + 1)\n",
    "]\n",
    "\n",
    "# validate all columns are present\n",
    "missing = [col for col in sequence_features if col not in train_df.columns]\n",
    "if missing:\n",
    "    raise ValueError(f\"Missing columns: {missing}\")"
   ]
  },
  {
   "cell_type": "code",
   "execution_count": 31,
   "id": "a923b9a1-674f-4a79-a72a-fb5c1763c599",
   "metadata": {},
   "outputs": [
    {
     "data": {
      "text/plain": [
       "(110937, 10, 12)"
      ]
     },
     "execution_count": 31,
     "metadata": {},
     "output_type": "execute_result"
    }
   ],
   "source": [
    "# Reshape training data\n",
    "X_array = train_df[sequence_features].values\n",
    "X = X_array.reshape((len(train_df), timesteps, len(history_features) * len(sides)))"
   ]
  },
  {
   "cell_type": "code",
   "execution_count": 33,
   "id": "65c13d82-c9c6-4bfd-a317-1756ce10ffb2",
   "metadata": {},
   "outputs": [],
   "source": [
    "# Convert target to integers which works better with the modesl \n",
    "label_encoder = LabelEncoder()\n",
    "y = label_encoder.fit_transform(train_df['target'])"
   ]
  },
  {
   "cell_type": "code",
   "execution_count": 36,
   "id": "edf95a89-c7b5-4253-9152-d8953a7cbf6e",
   "metadata": {},
   "outputs": [],
   "source": [
    "# Slipt training data\n",
    "X_train, X_val, y_train, y_val = train_test_split(X, y, test_size=0.1, stratify=y, random_state=20)"
   ]
  },
  {
   "cell_type": "code",
   "execution_count": 45,
   "id": "3132fa0d-02cb-4581-80b1-958c8c381fca",
   "metadata": {},
   "outputs": [],
   "source": [
    "# build model\n",
    "def build_model(hp):\n",
    "    model = Sequential()\n",
    "    model.add(\n",
    "        LSTM(\n",
    "            units=hp.Int(\"lstm_units\", min_value=32, max_value=128, step=32),\n",
    "            input_shape=(timesteps, X.shape[2]),\n",
    "            return_sequences=False\n",
    "        )\n",
    "    )\n",
    "    model.add(Dropout(hp.Float(\"dropout\", 0.2, 0.5, step=0.1)))\n",
    "    model.add(Dense(3, activation='softmax'))\n",
    "    model.compile(\n",
    "        optimizer=tf.keras.optimizers.Adam(\n",
    "            hp.Choice(\"learning_rate\", [1e-2, 1e-3, 1e-4])\n",
    "        ),\n",
    "        loss=\"sparse_categorical_crossentropy\",\n",
    "        metrics=[\"accuracy\"]\n",
    "    )\n",
    "    return model"
   ]
  },
  {
   "cell_type": "code",
   "execution_count": 46,
   "id": "8ccdf5a0-99f4-4148-9ae2-855fcffc8dda",
   "metadata": {},
   "outputs": [
    {
     "name": "stdout",
     "output_type": "stream",
     "text": [
      "Trial 10 Complete [00h 05m 54s]\n",
      "val_accuracy: 0.487650990486145\n",
      "\n",
      "Best val_accuracy So Far: 0.5011718273162842\n",
      "Total elapsed time: 00h 56m 52s\n"
     ]
    }
   ],
   "source": [
    "# hyperparameter tuning\n",
    "tuner = kt.RandomSearch(\n",
    "    build_model,\n",
    "    objective=\"val_accuracy\",\n",
    "    max_trials=10,\n",
    "    executions_per_trial=1,\n",
    "    directory=\"lstm_tuner\",\n",
    "    project_name=\"football_match_prediction\"\n",
    ")\n",
    "\n",
    "tuner.search(X_train, y_train, epochs=10, validation_data=(X_val, y_val), verbose=1)\n"
   ]
  },
  {
   "cell_type": "code",
   "execution_count": 48,
   "id": "3b9c8fd4-d223-4826-9fb5-33ff3ec0af8d",
   "metadata": {},
   "outputs": [
    {
     "name": "stdout",
     "output_type": "stream",
     "text": [
      "Epoch 1/20\n"
     ]
    },
    {
     "name": "stderr",
     "output_type": "stream",
     "text": [
      "/Users/olaniyinafiu/miniconda3/envs/tf/lib/python3.10/site-packages/keras/src/saving/saving_lib.py:802: UserWarning: Skipping variable loading for optimizer 'adam', because it has 2 variables whereas the saved optimizer has 12 variables. \n",
      "  saveable.load_own_variables(weights_store.get(inner_path))\n"
     ]
    },
    {
     "name": "stdout",
     "output_type": "stream",
     "text": [
      "\u001b[1m3121/3121\u001b[0m \u001b[32m━━━━━━━━━━━━━━━━━━━━\u001b[0m\u001b[37m\u001b[0m \u001b[1m34s\u001b[0m 11ms/step - accuracy: 0.4963 - loss: 1.0151 - val_accuracy: 0.4987 - val_loss: 1.0118\n",
      "Epoch 2/20\n",
      "\u001b[1m3121/3121\u001b[0m \u001b[32m━━━━━━━━━━━━━━━━━━━━\u001b[0m\u001b[37m\u001b[0m \u001b[1m33s\u001b[0m 10ms/step - accuracy: 0.4960 - loss: 1.0140 - val_accuracy: 0.4977 - val_loss: 1.0135\n",
      "Epoch 3/20\n",
      "\u001b[1m3121/3121\u001b[0m \u001b[32m━━━━━━━━━━━━━━━━━━━━\u001b[0m\u001b[37m\u001b[0m \u001b[1m33s\u001b[0m 11ms/step - accuracy: 0.4971 - loss: 1.0150 - val_accuracy: 0.5011 - val_loss: 1.0122\n",
      "Epoch 4/20\n",
      "\u001b[1m3121/3121\u001b[0m \u001b[32m━━━━━━━━━━━━━━━━━━━━\u001b[0m\u001b[37m\u001b[0m \u001b[1m33s\u001b[0m 11ms/step - accuracy: 0.4945 - loss: 1.0144 - val_accuracy: 0.4966 - val_loss: 1.0150\n",
      "Epoch 5/20\n",
      "\u001b[1m3121/3121\u001b[0m \u001b[32m━━━━━━━━━━━━━━━━━━━━\u001b[0m\u001b[37m\u001b[0m \u001b[1m31s\u001b[0m 10ms/step - accuracy: 0.4936 - loss: 1.0147 - val_accuracy: 0.4968 - val_loss: 1.0129\n",
      "Epoch 6/20\n",
      "\u001b[1m3121/3121\u001b[0m \u001b[32m━━━━━━━━━━━━━━━━━━━━\u001b[0m\u001b[37m\u001b[0m \u001b[1m31s\u001b[0m 10ms/step - accuracy: 0.4968 - loss: 1.0122 - val_accuracy: 0.5014 - val_loss: 1.0126\n",
      "Epoch 7/20\n",
      "\u001b[1m3121/3121\u001b[0m \u001b[32m━━━━━━━━━━━━━━━━━━━━\u001b[0m\u001b[37m\u001b[0m \u001b[1m31s\u001b[0m 10ms/step - accuracy: 0.4962 - loss: 1.0120 - val_accuracy: 0.4969 - val_loss: 1.0139\n",
      "Epoch 8/20\n",
      "\u001b[1m3121/3121\u001b[0m \u001b[32m━━━━━━━━━━━━━━━━━━━━\u001b[0m\u001b[37m\u001b[0m \u001b[1m33s\u001b[0m 10ms/step - accuracy: 0.4959 - loss: 1.0115 - val_accuracy: 0.5013 - val_loss: 1.0116\n",
      "Epoch 9/20\n",
      "\u001b[1m3121/3121\u001b[0m \u001b[32m━━━━━━━━━━━━━━━━━━━━\u001b[0m\u001b[37m\u001b[0m \u001b[1m32s\u001b[0m 10ms/step - accuracy: 0.4960 - loss: 1.0113 - val_accuracy: 0.5002 - val_loss: 1.0119\n",
      "Epoch 10/20\n",
      "\u001b[1m3121/3121\u001b[0m \u001b[32m━━━━━━━━━━━━━━━━━━━━\u001b[0m\u001b[37m\u001b[0m \u001b[1m32s\u001b[0m 10ms/step - accuracy: 0.4993 - loss: 1.0093 - val_accuracy: 0.4976 - val_loss: 1.0130\n",
      "Epoch 11/20\n",
      "\u001b[1m3121/3121\u001b[0m \u001b[32m━━━━━━━━━━━━━━━━━━━━\u001b[0m\u001b[37m\u001b[0m \u001b[1m33s\u001b[0m 10ms/step - accuracy: 0.4983 - loss: 1.0097 - val_accuracy: 0.5019 - val_loss: 1.0117\n",
      "Epoch 12/20\n",
      "\u001b[1m3121/3121\u001b[0m \u001b[32m━━━━━━━━━━━━━━━━━━━━\u001b[0m\u001b[37m\u001b[0m \u001b[1m33s\u001b[0m 11ms/step - accuracy: 0.4974 - loss: 1.0113 - val_accuracy: 0.4996 - val_loss: 1.0133\n",
      "Epoch 13/20\n",
      "\u001b[1m3121/3121\u001b[0m \u001b[32m━━━━━━━━━━━━━━━━━━━━\u001b[0m\u001b[37m\u001b[0m \u001b[1m33s\u001b[0m 11ms/step - accuracy: 0.4981 - loss: 1.0094 - val_accuracy: 0.5002 - val_loss: 1.0123\n",
      "Epoch 14/20\n",
      "\u001b[1m3121/3121\u001b[0m \u001b[32m━━━━━━━━━━━━━━━━━━━━\u001b[0m\u001b[37m\u001b[0m \u001b[1m33s\u001b[0m 11ms/step - accuracy: 0.4979 - loss: 1.0089 - val_accuracy: 0.5009 - val_loss: 1.0126\n",
      "Epoch 15/20\n",
      "\u001b[1m3121/3121\u001b[0m \u001b[32m━━━━━━━━━━━━━━━━━━━━\u001b[0m\u001b[37m\u001b[0m \u001b[1m37s\u001b[0m 12ms/step - accuracy: 0.4957 - loss: 1.0098 - val_accuracy: 0.5000 - val_loss: 1.0127\n",
      "Epoch 16/20\n",
      "\u001b[1m3121/3121\u001b[0m \u001b[32m━━━━━━━━━━━━━━━━━━━━\u001b[0m\u001b[37m\u001b[0m \u001b[1m37s\u001b[0m 12ms/step - accuracy: 0.4996 - loss: 1.0083 - val_accuracy: 0.4961 - val_loss: 1.0136\n",
      "Epoch 17/20\n",
      "\u001b[1m3121/3121\u001b[0m \u001b[32m━━━━━━━━━━━━━━━━━━━━\u001b[0m\u001b[37m\u001b[0m \u001b[1m34s\u001b[0m 11ms/step - accuracy: 0.5008 - loss: 1.0080 - val_accuracy: 0.4996 - val_loss: 1.0141\n",
      "Epoch 18/20\n",
      "\u001b[1m3121/3121\u001b[0m \u001b[32m━━━━━━━━━━━━━━━━━━━━\u001b[0m\u001b[37m\u001b[0m \u001b[1m34s\u001b[0m 11ms/step - accuracy: 0.5006 - loss: 1.0065 - val_accuracy: 0.4981 - val_loss: 1.0128\n",
      "Epoch 19/20\n",
      "\u001b[1m3121/3121\u001b[0m \u001b[32m━━━━━━━━━━━━━━━━━━━━\u001b[0m\u001b[37m\u001b[0m \u001b[1m34s\u001b[0m 11ms/step - accuracy: 0.4996 - loss: 1.0068 - val_accuracy: 0.5015 - val_loss: 1.0144\n",
      "Epoch 20/20\n",
      "\u001b[1m3121/3121\u001b[0m \u001b[32m━━━━━━━━━━━━━━━━━━━━\u001b[0m\u001b[37m\u001b[0m \u001b[1m33s\u001b[0m 10ms/step - accuracy: 0.5040 - loss: 1.0038 - val_accuracy: 0.5010 - val_loss: 1.0116\n"
     ]
    }
   ],
   "source": [
    "best_model = tuner.get_best_models(num_models=1)[0]\n",
    "history = best_model.fit(X_train, y_train, epochs=20, batch_size=32,\n",
    "                         validation_data=(X_val, y_val))\n"
   ]
  },
  {
   "cell_type": "code",
   "execution_count": 53,
   "id": "d6447dea-06ef-4774-8116-23a4ede48cbc",
   "metadata": {},
   "outputs": [
    {
     "name": "stdout",
     "output_type": "stream",
     "text": [
      "\u001b[1m347/347\u001b[0m \u001b[32m━━━━━━━━━━━━━━━━━━━━\u001b[0m\u001b[37m\u001b[0m \u001b[1m1s\u001b[0m 3ms/step\n",
      "Validation Log Loss: 1.0116\n",
      "Classification Report (LSTM):\n",
      "\n",
      "              precision    recall  f1-score   support\n",
      "\n",
      "        away       0.49      0.47      0.48      3517\n",
      "        draw       0.34      0.00      0.01      2765\n",
      "        home       0.51      0.81      0.62      4812\n",
      "\n",
      "    accuracy                           0.50     11094\n",
      "   macro avg       0.45      0.43      0.37     11094\n",
      "weighted avg       0.46      0.50      0.42     11094\n",
      "\n"
     ]
    },
    {
     "data": {
      "text/plain": [
       "<sklearn.metrics._plot.confusion_matrix.ConfusionMatrixDisplay at 0x3b06ead40>"
      ]
     },
     "execution_count": 53,
     "metadata": {},
     "output_type": "execute_result"
    },
    {
     "data": {
      "image/png": "[encoded data removed]",
      "text/plain": [
       "<Figure size 640x480 with 2 Axes>"
      ]
     },
     "metadata": {},
     "output_type": "display_data"
    }
   ],
   "source": [
    "# Evaluate loss\n",
    "val_preds = best_model.predict(X_val)\n",
    "logloss = log_loss(y_val, val_preds)\n",
    "print(f\"Validation Log Loss: {logloss:.4f}\")\n",
    "\n",
    "# Classification report\n",
    "val_classes = np.argmax(val_preds, axis=1)\n",
    "print(\"Classification Report (LSTM):\\n\")\n",
    "print(classification_report(y_val, val_classes, target_names=label_encoder.classes_))\n",
    "\n",
    "# Display confusion matrix\n",
    "cm = confusion_matrix(y_val, val_classes)\n",
    "disp = ConfusionMatrixDisplay(cm, display_labels=label_encoder.classes_)\n",
    "disp.plot(cmap='Blues')"
   ]
  },
  {
   "cell_type": "code",
   "execution_count": 55,
   "id": "4882e085-721b-4f33-80e5-dec0f9ce3eab",
   "metadata": {},
   "outputs": [
    {
     "name": "stdout",
     "output_type": "stream",
     "text": [
      "\u001b[1m2273/2273\u001b[0m \u001b[32m━━━━━━━━━━━━━━━━━━━━\u001b[0m\u001b[37m\u001b[0m \u001b[1m8s\u001b[0m 4ms/step\n"
     ]
    }
   ],
   "source": [
    "# Generate Submission\n",
    "test_df = clean_match_data(test_df) \n",
    "X_array_test = test_df[sequence_features].values\n",
    "X_test = X_array_test.reshape((len(test_df), timesteps, len(history_features) * 2))\n",
    "test_preds = best_model.predict(X_test)\n",
    "\n",
    "submission_df = pd.DataFrame(test_preds, columns=label_encoder.classes_)\n",
    "submission_df = submission_df[['home', 'draw', 'away']]\n",
    "submission_df.insert(0, 'id', test_df['id'])\n",
    "submission_df.to_csv('submission.csv', index=False)"
   ]
  },
  {
   "cell_type": "markdown",
   "id": "eec9aaa2-b7f2-429a-a155-68d3cf0b4b92",
   "metadata": {},
   "source": [
    "## Comparison Model: Logistic Regression\n",
    "\n",
    "LSTM model will be compared it against a simpler baseline model — **Logistic Regression** to determine if LSTM is actually an optimal solution for this problem"
   ]
  },
  {
   "cell_type": "code",
   "execution_count": 56,
   "id": "1f49e96c-6460-49f8-aeeb-9a3cc7753e21",
   "metadata": {},
   "outputs": [
    {
     "name": "stderr",
     "output_type": "stream",
     "text": [
      "/Users/olaniyinafiu/miniconda3/envs/tf/lib/python3.10/site-packages/sklearn/linear_model/_logistic.py:1247: FutureWarning: 'multi_class' was deprecated in version 1.5 and will be removed in 1.7. From then on, it will always use 'multinomial'. Leave it to its default value to avoid this warning.\n",
      "  warnings.warn(\n"
     ]
    },
    {
     "name": "stdout",
     "output_type": "stream",
     "text": [
      "Log Loss (Logistic Regression): 1.0106\n",
      "Classification Report:\n",
      "               precision    recall  f1-score   support\n",
      "\n",
      "        away       0.48      0.45      0.47      3517\n",
      "        draw       0.37      0.01      0.02      2765\n",
      "        home       0.50      0.81      0.62      4812\n",
      "\n",
      "    accuracy                           0.50     11094\n",
      "   macro avg       0.45      0.42      0.37     11094\n",
      "weighted avg       0.46      0.50      0.42     11094\n",
      "\n"
     ]
    },
    {
     "data": {
      "text/plain": [
       "<sklearn.metrics._plot.confusion_matrix.ConfusionMatrixDisplay at 0x36369a560>"
      ]
     },
     "execution_count": 56,
     "metadata": {},
     "output_type": "execute_result"
    },
    {
     "data": {
      "image/png": "[encoded data removed]",
      "text/plain": [
       "<Figure size 640x480 with 2 Axes>"
      ]
     },
     "metadata": {},
     "output_type": "display_data"
    }
   ],
   "source": [
    "# Flatten sequence features for logistic regression\n",
    "X_train_flat = X_train.reshape(X_train.shape[0], -1)\n",
    "X_val_flat = X_val.reshape(X_val.shape[0], -1)\n",
    "\n",
    "lr = LogisticRegression(max_iter=1000, multi_class='multinomial', solver='lbfgs')\n",
    "lr.fit(X_train_flat, y_train)\n",
    "lr_preds = lr.predict_proba(X_val_flat)\n",
    "\n",
    "# Evaluate loss\n",
    "lr_logloss = log_loss(y_val, lr_preds)\n",
    "print(f\"Log Loss (Logistic Regression): {lr_logloss:.4f}\")\n",
    "\n",
    "# Classification report\n",
    "lr_classes = lr.predict(X_val_flat)\n",
    "print(\"Classification Report:\\n\", classification_report(y_val, lr_classes, target_names=label_encoder.classes_))\n",
    "\n",
    "# Confusion matrix\n",
    "cm = confusion_matrix(y_val, lr_classes)\n",
    "disp = ConfusionMatrixDisplay(confusion_matrix=cm, display_labels=label_encoder.classes_)\n",
    "disp.plot(cmap='Blues')"
   ]
  },
  {
   "cell_type": "markdown",
   "id": "b99e1422",
   "metadata": {},
   "source": [
    "## Model Comparison: LSTM vs Logistic Regression\n",
    "\n",
    "| Metric                | LSTM              | Logistic Regression       |\n",
    "|------------------------|-------------------|----------------------------|\n",
    "| Validation Accuracy    | 50.1%             | 50.0%                      |\n",
    "| Validation Log Loss    | 1.0116            | 1.0106                     |\n",
    "| Kaggle Log Loss        | 1.00708           | —                          |\n",
    "| Public LB Score        | 1.01550           | —                          |\n",
    "\n",
    "---\n",
    "\n",
    "### Per-Class Breakdown\n",
    "\n",
    "| Label  | Precision (LSTM) | Recall (LSTM) | Precision (LR) | Recall (LR) |\n",
    "|--------|------------------|---------------|----------------|-------------|\n",
    "| Away   | 0.49             | 0.47          | 0.48           | 0.45        |\n",
    "| Draw   | 0.34             | 0.00          | 0.37           | 0.01        |\n",
    "| Home   | 0.51             | 0.81          | 0.50           | 0.81        |\n",
    "\n",
    "---\n",
    "\n",
    "## Confusion Matrix Insight\n",
    "\n",
    "- Home wins have the highest prediction accuracy.\n",
    "- Draws are heavily under-predicted.\n",
    "- LSTM performs slightly better for away outcomes compared to logistic regression.\n",
    "\n",
    "---\n",
    "\n",
    "## Conclusion\n",
    "\n",
    "This project explored deep learning for football match outcome prediction using historical sequence data.\n",
    "\n",
    "### Key Insights:\n",
    "- The LSTM model outperformed the logistic regression baseline in terms of log loss, the official competition metric.\n",
    "- Accuracy across both models was similar, but the LSTM is better equipped to model temporal patterns.\n",
    "- The hardest class to predict is draw, indicating future work should:\n",
    "  - Apply class balancing techniques.\n",
    "  - Explore more advanced architectures such as Transformers or attention mechanisms.\n",
    "\n",
    "---\n",
    "\n",
    "## Final Submission Summary\n",
    "\n",
    "- Kaggle Log Loss: `1.00708`  \n",
    "- Public Leaderboard Score: `1.01550`  \n",
    "- The LSTM model shows a promising direction for sports sequence modeling with room for further optimization.\n"
   ]
  },
  {
   "cell_type": "code",
   "execution_count": null,
   "id": "1d9e47f2-d5f5-44b7-9250-f8eac8619faf",
   "metadata": {},
   "outputs": [],
   "source": []
  }
 ],
 "metadata": {
  "kernelspec": {
   "display_name": "Python 3 (ipykernel)",
   "language": "python",
   "name": "python3"
  },
  "language_info": {
   "codemirror_mode": {
    "name": "ipython",
    "version": 3
   },
   "file_extension": ".py",
   "mimetype": "text/x-python",
   "name": "python",
   "nbconvert_exporter": "python",
   "pygments_lexer": "ipython3",
   "version": "3.10.18"
  }
 },
 "nbformat": 4,
 "nbformat_minor": 5
}
